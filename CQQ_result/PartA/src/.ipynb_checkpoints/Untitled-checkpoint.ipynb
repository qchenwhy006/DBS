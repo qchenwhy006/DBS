{
 "cells": [
  {
   "cell_type": "markdown",
   "metadata": {},
   "source": [
    "Question 2:\\\n",
    "a) Given 3 independent binary classifiers$(C_i,i = 1,2,3)$ using Majority voting, if the ensemble ($H(\\vec{x})$) receiving more than half of the votes predicts a label otherwise the prediction is rejected. The ensemble predicts the wrong answer is in such condition: There are $k$ classifiers predicting the right answer while $k\\leq 1 $. Based on uncorrelated error rates, the equation for the expected error rate of the ensemble as shown below:\n",
    "$P(H(\\vec{x})\\neq y) = \\sum_{k=0}^{1}C_3^{k}(1 - \\epsilon)^{k}\\epsilon^{3-k}$\n",
    "Specifically, the equation could be written as below:\n",
    "$P(H(\\vec{x})\\neq y) = e_1e_2e_3 + (1 - e_1)e_2e_3 + (1 - e_2)e_1e_3 + (1 - e_3)e_2e_1$\n",
    "                     = 0.132\\\n",
    "b) If the assumption of independence is relaxed on the errors, we need to apply the total probability theorem to calculate. "
   ]
  },
  {
   "cell_type": "code",
   "execution_count": null,
   "metadata": {},
   "outputs": [],
   "source": []
  },
  {
   "cell_type": "markdown",
   "metadata": {},
   "source": [
    "Question 3: \n",
    "$P(Y=N) = 0.5$;    $P(Y=Y) = 0.5$;\\\n",
    "$P(X_1=S|Y=N)=\\frac{2}{3};   P(X_1=S|Y=Y)=0;\\   \n",
    "P(X_3=N|Y=N)=\\frac{2}{3}; P(X_3=N|Y=Y)=\\frac{1}{3}$;\\\n",
    "$P(X_4=F|Y=N)=\\frac{1}{3}; P(X_4=F|Y=Y)=1;  P(X_4=T|Y=N)=\\frac{2}{3};  P(X_4=T|Y=Y)=0$;\\\n",
    "If $Y=N$, $\\bar x = \\frac{1}{3}(42.5+39.2+15.4)=32.4; s^2 = \\frac{1}{2}((42.5-32.4)^2 + (39.2-32.4)^2 + (15.4-32.4)^2)=218.6$;\\\n",
    "If $Y=Y$, $\\bar x = \\frac{1}{2}(33.6+22.8)=28.2; s^2 = (33.6-28.2)^2 + (22.8-28.2)^2 =58.3$\\"
   ]
  },
  {
   "cell_type": "code",
   "execution_count": 8,
   "metadata": {},
   "outputs": [
    {
     "name": "stdout",
     "output_type": "stream",
     "text": [
      "𝑃(𝑋2=25|𝑌=𝑁)= 0.00182394219241013\n",
      "𝑃(𝑋2=25|𝑌=Y)= 0.006832620522681207\n",
      "𝑃(𝑋2=36.4|𝑌=𝑁)= 0.0018246820576027104\n",
      "𝑃(𝑋2=36.4|𝑌=Y)= 0.006775567911678318\n"
     ]
    }
   ],
   "source": [
    "import scipy.stats\n",
    "mu = 32.4\n",
    "std = 218.6\n",
    "prob = scipy.stats.norm(mu, std).pdf(25)\n",
    "print('𝑃(𝑋2=25|𝑌=𝑁)=', prob)\n",
    "mu = 28.2\n",
    "std = 58.3 \n",
    "prob_2 = scipy.stats.norm(mu, std).pdf(25)\n",
    "print('𝑃(𝑋2=25|𝑌=Y)=', prob_2)\n",
    "mu = 32.4\n",
    "std = 218.6\n",
    "prob_3 = scipy.stats.norm(mu, std).pdf(36.4)\n",
    "print('𝑃(𝑋2=36.4|𝑌=𝑁)=', prob_3)\n",
    "mu = 28.2\n",
    "std = 58.3 \n",
    "prob_4 = scipy.stats.norm(mu, std).pdf(36.4)\n",
    "print('𝑃(𝑋2=36.4|𝑌=Y)=', prob_4)"
   ]
  },
  {
   "cell_type": "markdown",
   "metadata": {},
   "source": [
    "Test data:\\\n",
    "ID_7:\\\n",
    "$P(Y=N)P(X_2=25|Y=N)P(X_3=N|Y=N)P(X_4=T|Y=N) = 0.5*0.00182*\\frac{2}{3}*\\frac{2}{3}=0.0004$\\\n",
    "$P(Y=Y)P(X_2=25|Y=Y)P(X_3=N|Y=Y)P(X_4=T|Y=Y) = 0.5*0.00683*\\frac{1}{3}*0=0$\\\n",
    "ID_8:\\\n",
    "$P(Y=N)P(X_1=S|Y=N)P(X_2=36.4|Y=N)P(X_4=F|Y=N) = 0.5*\\frac{2}{3}*0.00182*\\frac{1}{3}=0.0002$\\\n",
    "$P(Y=Y)P(X_1=S|Y=Y)P(X_2=36.4|Y=Y)P(X_4=F|Y=Y) = 0.5*0*0.00678*1=0$\\\n",
    "Therefore, for ID_7, Y=N. For ID_8, Y=N "
   ]
  },
  {
   "cell_type": "code",
   "execution_count": 30,
   "metadata": {},
   "outputs": [],
   "source": [
    "class Solution:\n",
    "    def get_indices(self, data):\n",
    "        info_to_ids = get_info_to_ids(data)\n",
    "    \n",
    "        self.init(len(data))\n",
    "        for info, indexs in info_to_ids.items():\n",
    "            root_id = indexs[0]\n",
    "            for index in indexs[1:]:\n",
    "                self.union(root_id, index)\n",
    "                \n",
    "        merge_id = self.merge_id(data)\n",
    "        return [value for key, value in merge_id.items()]\n",
    "    \n",
    "    def get_info_to_ids(self, data):\n",
    "        info_to_ids = {}\n",
    "        for user_id, info in enumerate(data):\n",
    "            for i in range(len(info)):\n",
    "                info_to_ids[info[i]] = info_to_ids.get(info[i], [])\n",
    "                info_to_ids[info[i]].append(user_id)\n",
    "        return info_to_ids\n",
    "    \n",
    "    def merge_id(self, data):\n",
    "        merge_id = {}\n",
    "        for user_id, infos in enumerate(data):\n",
    "            root_user_id = self.find(user_id)\n",
    "            if root_user_id in merge_id:\n",
    "                merge_id[root_user_id].append(user_id)\n",
    "            else:\n",
    "                merge_id[root_user_id] = [user_id]   \n",
    "        return merge_id\n",
    "    \n",
    "    def init(self, n):\n",
    "        self.father = {}\n",
    "        for i in range(n):\n",
    "            self.father[i] = i\n",
    "            \n",
    "    def find(self, x):\n",
    "        if x == self.father[x]:\n",
    "            return x\n",
    "        self.father[x] = self.find(self.father[x])\n",
    "        return self.father[x]\n",
    "    \n",
    "    def union(self, x, y):\n",
    "        father_x = self.find(x)\n",
    "        father_y = self.find(y)\n",
    "        if father_x != father_y:\n",
    "            self.father[father_x] = y     "
   ]
  },
  {
   "cell_type": "code",
   "execution_count": 31,
   "metadata": {},
   "outputs": [
    {
     "name": "stdout",
     "output_type": "stream",
     "text": [
      "[[0, 1, 3], [2]]\n"
     ]
    }
   ],
   "source": [
    "data = [('id1', 'addr1', 'pw1'), ('idx', 'addr1', 'pwx'), ('idz', 'addrz', 'pwz'), ('idy', 'addry', 'pwx')]\n",
    "solution = Solution()\n",
    "print(solution.get_indices(data))"
   ]
  },
  {
   "cell_type": "code",
   "execution_count": null,
   "metadata": {},
   "outputs": [],
   "source": []
  }
 ],
 "metadata": {
  "kernelspec": {
   "display_name": "Python [conda env:tf2]",
   "language": "python",
   "name": "conda-env-tf2-py"
  },
  "language_info": {
   "codemirror_mode": {
    "name": "ipython",
    "version": 3
   },
   "file_extension": ".py",
   "mimetype": "text/x-python",
   "name": "python",
   "nbconvert_exporter": "python",
   "pygments_lexer": "ipython3",
   "version": "3.8.5"
  }
 },
 "nbformat": 4,
 "nbformat_minor": 4
}
